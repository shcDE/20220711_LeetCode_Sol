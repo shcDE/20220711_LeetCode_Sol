{
 "cells": [
  {
   "cell_type": "code",
   "execution_count": null,
   "metadata": {},
   "outputs": [],
   "source": [
    "# 75번 최대 슬라이딩 윈도우(리트코드 239번)\n",
    "\n",
    "class Solution:\n",
    "    def maxSlidingWindow(self, nums: List[int], k: int) -> List[int]:\n",
    "        # results 초기값 및 window 초기값 설정\n",
    "        results = []\n",
    "        window = collections.deque()\n",
    "        current_max = float('-inf')\n",
    "        # i, v가 nums 안에 있을 때 window에 v 추가\n",
    "        for i, v in enumerate(nums):\n",
    "            window.append(v)\n",
    "            # i가 k - 1보다 작을 때 계속 진행\n",
    "            if i < k - 1:\n",
    "                continue\n",
    "                \n",
    "            # 새로 추가된 값이 기존 최댓값보다 큰 경우 교체\n",
    "            if current_max == float('-inf'):\n",
    "                current_max = max(window)\n",
    "            elif v > current_max:\n",
    "                current_max = v\n",
    "            # 교체한 최댓값 results에 담기    \n",
    "            results.append(current_max)\n",
    "            \n",
    "            # 최댓값이 윈도우에서 빠지면 초기화\n",
    "            if current_max == window.popleft():\n",
    "                current_max = float('-inf')\n",
    "        # results 반환        \n",
    "        return results"
   ]
  },
  {
   "cell_type": "code",
   "execution_count": null,
   "metadata": {},
   "outputs": [],
   "source": [
    "# 76번 부분 문자열이 포함된 최소 윈도우(리트코드 76번)\n",
    "\n",
    "class Solution:\n",
    "    def minWindow(self, s: str, t: str) -> str:\n",
    "        # t_count 및 current_count 초기값 설정\n",
    "        t_count = collections.Counter(t)\n",
    "        current_count = collections.Counter()\n",
    "        \n",
    "        # 시작값 및 끝값 설정\n",
    "        start = float('-inf')\n",
    "        end = float('inf')\n",
    "        \n",
    "        # 왼쪽 포인터 설정\n",
    "        left = 0\n",
    "        # 오른쪽 포인터 이동\n",
    "        for right, char in enumerate(s, 1):\n",
    "            current_count[char] += 1\n",
    "            \n",
    "            # AND 연산 결과로 왼쪽 포인터 이동 판단\n",
    "            while current_count & t_count == t_count:\n",
    "                if right - left < end - start:\n",
    "                    start, end = left, right\n",
    "                current_count[s[left]] -= 1\n",
    "                left += 1\n",
    "        \n",
    "        # 모든 조건 돌고 끝값에서 시작값을 뺀 값이 s의 길이와 같거나 작을 때 s의 시작값부터 end-1값까지 반환\n",
    "        # 나머지 경우는 '' 반환\n",
    "        return s[start: end] if end - start <= len(s) else ''"
   ]
  },
  {
   "cell_type": "code",
   "execution_count": null,
   "metadata": {},
   "outputs": [],
   "source": [
    "# 77번 가장 긴 반복 문자 대체(리트코드 424번)\n",
    "\n",
    "class Solution:\n",
    "    def characterReplacement(self, s: str, k: int) -> int:\n",
    "        # 왼쪽 및 오른쪽 포인터와 counts 값 초기값 설정\n",
    "        left = right = 0\n",
    "        counts = collections.Counter()\n",
    "        \n",
    "        # 1~ len(s)까지 범위 내에서 counts[s[right - 1]]에 1추가 반복\n",
    "        for right in range(1, len(s) + 1):\n",
    "            counts[s[right - 1]] += 1\n",
    "            # 가장 흔하게 등장하는 문자 탐색\n",
    "            max_char_n = counts.most_common(1)[0][1]\n",
    "            \n",
    "            # k 초과시 왼쪽 포인터 이동\n",
    "            if right - left - max_char_n > k:\n",
    "                counts[s[left]] -= 1\n",
    "                left += 1\n",
    "                \n",
    "        # right - left 값 반환\n",
    "        return right - left"
   ]
  }
 ],
 "metadata": {
  "kernelspec": {
   "display_name": "Python 3",
   "language": "python",
   "name": "python3"
  },
  "language_info": {
   "codemirror_mode": {
    "name": "ipython",
    "version": 3
   },
   "file_extension": ".py",
   "mimetype": "text/x-python",
   "name": "python",
   "nbconvert_exporter": "python",
   "pygments_lexer": "ipython3",
   "version": "3.8.5"
  }
 },
 "nbformat": 4,
 "nbformat_minor": 4
}
